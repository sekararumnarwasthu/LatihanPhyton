{
 "cells": [
  {
   "cell_type": "code",
   "execution_count": 4,
   "id": "e583f4e4-74fc-418c-ae6b-159ad458f627",
   "metadata": {},
   "outputs": [
    {
     "name": "stdout",
     "output_type": "stream",
     "text": [
      "{'Count': '22', 'RetMax': '20', 'RetStart': '0', 'IdList': ['260763976', '158749585', '2112722214', '2086942637', '2086925491', '2076559392', '2072595803', '2070616130', '2062927010', '2062927008', '2055116844', '1985835346', '1207826205', '1208044898', '213133510', '364284886', '805715091', '805715088', '690273827', '509129642'], 'TranslationSet': [{'From': 'Ovis aries', 'To': '\"Ovis aries\"[Organism] OR Ovis aries[All Fields]'}], 'TranslationStack': [{'Term': '\"Ovis aries\"[Organism]', 'Field': 'Organism', 'Count': '908253', 'Explode': 'Y'}, {'Term': 'Ovis aries[All Fields]', 'Field': 'All Fields', 'Count': '1163191', 'Explode': 'N'}, 'OR', 'GROUP', {'Term': 'DGAT1[All Fields]', 'Field': 'All Fields', 'Count': '1839', 'Explode': 'N'}, 'AND', 'GROUP'], 'QueryTranslation': '(\"Ovis aries\"[Organism] OR Ovis aries[All Fields]) AND DGAT1[All Fields]'}\n"
     ]
    }
   ],
   "source": [
    "from Bio import Entrez\n",
    "Entrez.email = \"localuser@localhost.localdomain\" #Mandatory! Can be replaced with your personal email.\n",
    "\n",
    "#creating handle\n",
    "handle = Entrez.esearch(db=\"nuccore\", term=\"Ovis aries DGAT1\")\n",
    "record = Entrez.read(handle)\n",
    "print(record)\n",
    "handle.close() #always close your handle after you finish"
   ]
  },
  {
   "cell_type": "code",
   "execution_count": 11,
   "id": "780ff287-6edc-412b-bd88-4e9e2fae9455",
   "metadata": {},
   "outputs": [
    {
     "name": "stdout",
     "output_type": "stream",
     "text": [
      "LOCUS       KP215641                 390 bp    DNA     linear   MAM 12-APR-2015\n",
      "DEFINITION  Ovis aries haplotype 2 acyl-coenzyme A:diacylglycerol\n",
      "            acyltransferase 1 (DGAT1) gene, exons 15 through 17 and partial\n",
      "            cds.\n",
      "ACCESSION   KP215641\n",
      "VERSION     KP215641.1\n",
      "KEYWORDS    .\n",
      "SOURCE      Ovis aries (sheep)\n",
      "  ORGANISM  Ovis aries\n",
      "            Eukaryota; Metazoa; Chordata; Craniata; Vertebrata; Euteleostomi;\n",
      "            Mammalia; Eutheria; Laurasiatheria; Artiodactyla; Ruminantia;\n",
      "            Pecora; Bovidae; Caprinae; Ovis.\n",
      "REFERENCE   1  (bases 1 to 390)\n",
      "  AUTHORS   Ozmen,O. and Kul,S.\n",
      "  TITLE     Direct Submission\n",
      "  JOURNAL   Submitted (01-DEC-2014) Genetics, Ankara University, Faculty of\n",
      "            Veterinary Medicine, Ankara, C 06119, Turkey\n",
      "COMMENT     ##Assembly-Data-START##\n",
      "            Sequencing Technology :: Sanger dideoxy sequencing\n",
      "            ##Assembly-Data-END##\n",
      "FEATURES             Location/Qualifiers\n",
      "     source          1..390\n",
      "                     /organism=\"Ovis aries\"\n",
      "                     /mol_type=\"genomic DNA\"\n",
      "                     /db_xref=\"taxon:9940\"\n",
      "                     /haplotype=\"2\"\n",
      "     gene            <1..>390\n",
      "                     /gene=\"DGAT1\"\n",
      "     mRNA            join(<1..93,171..233,308..>390)\n",
      "                     /gene=\"DGAT1\"\n",
      "                     /product=\"acyl-coenzyme A:diacylglycerol acyltransferase\n",
      "                     1\"\n",
      "     CDS             join(<1..93,171..233,308..>390)\n",
      "                     /gene=\"DGAT1\"\n",
      "                     /codon_start=1\n",
      "                     /product=\"acyl-coenzyme A:diacylglycerol acyltransferase\n",
      "                     1\"\n",
      "                     /protein_id=\"AKB91440.1\"\n",
      "                     /translation=\"PRHFYKPMLRRGSSKWAARTGVFLASAFFHEYLVSIPLRMFRLW\n",
      "                     AFTGMMAQIPLAWIVGRFFRGNYGNAAVWLSLIIG\"\n",
      "     exon            <1..93\n",
      "                     /gene=\"DGAT1\"\n",
      "                     /number=15\n",
      "     exon            171..233\n",
      "                     /gene=\"DGAT1\"\n",
      "                     /number=16\n",
      "     exon            308..>390\n",
      "                     /gene=\"DGAT1\"\n",
      "                     /number=17\n",
      "ORIGIN      \n",
      "        1 cccagacact tctacaagcc catgctccgg cggggcagca gcaagtgggc agctaggaca\n",
      "       61 ggggtgttcc tggcctctgc cttcttccat gaggtcagtg cactgagggc gcaccctgcc\n",
      "      121 cctgggggtg gggtggggca ggggctcggc tgacgcccct ctccccccag tacctggtga\n",
      "      181 gcatccccct gcgcatgttc cgcctctggg ccttcaccgg catgatggca caggtgagca\n",
      "      241 gccctggacc cccacctgcg agcccacccc gtgggcgcag aggctcactc ccgtcccatg\n",
      "      301 tccccagatc ccgctggcct ggatagtggg ccgcttcttc cgtggtaact atggcaacgc\n",
      "      361 ggctgtgtgg ctgtcactca tcattgggca\n",
      "//\n",
      "\n",
      "\n"
     ]
    }
   ],
   "source": [
    "efetch_handle = Entrez.efetch(db=\"nuccore\", id=\"805715091\", rettype=\"gb\", retmode=\"text\")\n",
    "gbrecord = efetch_handle.read()\n",
    "print(gbrecord)"
   ]
  },
  {
   "cell_type": "code",
   "execution_count": 12,
   "id": "e823d8c4-001f-45fa-88d3-cc8bc84f2cec",
   "metadata": {},
   "outputs": [
    {
     "name": "stdout",
     "output_type": "stream",
     "text": [
      ">KP215641.1 Ovis aries haplotype 2 acyl-coenzyme A:diacylglycerol acyltransferase 1 (DGAT1) gene, exons 15 through 17 and partial cds\n",
      "CCCAGACACTTCTACAAGCCCATGCTCCGGCGGGGCAGCAGCAAGTGGGCAGCTAGGACAGGGGTGTTCC\n",
      "TGGCCTCTGCCTTCTTCCATGAGGTCAGTGCACTGAGGGCGCACCCTGCCCCTGGGGGTGGGGTGGGGCA\n",
      "GGGGCTCGGCTGACGCCCCTCTCCCCCCAGTACCTGGTGAGCATCCCCCTGCGCATGTTCCGCCTCTGGG\n",
      "CCTTCACCGGCATGATGGCACAGGTGAGCAGCCCTGGACCCCCACCTGCGAGCCCACCCCGTGGGCGCAG\n",
      "AGGCTCACTCCCGTCCCATGTCCCCAGATCCCGCTGGCCTGGATAGTGGGCCGCTTCTTCCGTGGTAACT\n",
      "ATGGCAACGCGGCTGTGTGGCTGTCACTCATCATTGGGCA\n",
      "\n",
      "\n"
     ]
    }
   ],
   "source": [
    "efetch_handle = Entrez.efetch(db=\"nuccore\", id=\"805715091\", rettype=\"fasta\", retmode=\"text\")\n",
    "gbrecord = efetch_handle.read()\n",
    "print(gbrecord)"
   ]
  },
  {
   "cell_type": "code",
   "execution_count": 14,
   "id": "73bdc33a-d668-481a-a377-4a4b1ef724ba",
   "metadata": {
    "jupyter": {
     "source_hidden": true
    },
    "tags": []
   },
   "outputs": [
    {
     "name": "stdout",
     "output_type": "stream",
     "text": [
      "FASTA Download\n"
     ]
    }
   ],
   "source": [
    "import os\n",
    "\n",
    "#creating EFetch handle\n",
    "filename = \"DGAT1 ovis aries.fasta\" #up to you, but FASTA files always use *.fasta or *.fas \n",
    "\n",
    "#creating EFetch handle\n",
    "if not os.path.isfile(filename):\n",
    "    # Downloading file...\n",
    "    efetch_handle = Entrez.efetch(db=\"nuccore\", id=\"805715091\", rettype=\"fasta\", retmode=\"text\")\n",
    "    output_file_handle = open(filename, \"w\")\n",
    "    output_file_handle.write(efetch_handle.read())\n",
    "    output_file_handle.close()\n",
    "    efetch_handle.close()\n",
    "    print(\"FASTA Download\")\n"
   ]
  },
  {
   "cell_type": "code",
   "execution_count": 30,
   "id": "bdfd61d8-44d6-4e20-b44f-a4479c306db2",
   "metadata": {},
   "outputs": [
    {
     "name": "stdout",
     "output_type": "stream",
     "text": [
      "GB Download\n"
     ]
    }
   ],
   "source": [
    "#creating EFetch handle\n",
    "filename = \"Ovis aries complete DGAT1.gbk\" #up to you, but Genbank files always use *.gb or *.gbk \n",
    "\n",
    "#creating EFetch handle\n",
    "if not os.path.isfile(filename):\n",
    "    # Downloading file...\n",
    "    efetch_handle = Entrez.efetch(db=\"nuccore\", id=\"158253238\", rettype=\"gb\", retmode=\"text\")\n",
    "    output_file_handle = open(filename, \"w\")\n",
    "    output_file_handle.write(efetch_handle.read())\n",
    "    output_file_handle.close()\n",
    "    efetch_handle.close()\n",
    "    print(\"GB Download\")"
   ]
  },
  {
   "cell_type": "code",
   "execution_count": 34,
   "id": "56d7f935-fd29-4d53-8e9a-e41f3462eecd",
   "metadata": {},
   "outputs": [
    {
     "name": "stdout",
     "output_type": "stream",
     "text": [
      ">DGAT1|Ovis aries diacylglycerol acyltransferase 1 (DGAT1) gene, complete cds\n",
      "ATGGGCGACCGCGGCGGCGCGGGCGGCTCCCGGCGCCGGAGGACAGGGTCGCGGCCTTCGATCCAGGGCGGCAGTAGGCCAGCGGCAGCGGAAGAGGAGGTGCGGGATGTGGGCGCCGGAGGGGACGCGCCGGTCCGGGACACAGACAAGGACGGAGACGTAGACGTGGGCAGCGGCCACTGGGACCTGAGGTGTCACCGCCTGCAGGACTCCCTGTTCAGTTCTGACAGTGGCTTCAGCAACTACCGCGGCATCCTGAATTGGTGTGTGGTGATGCTGATCTTAAGCAACGCACGGTTATTTCTAGAGAACCTCATCAAGTACGGCATCCTGGTGGACCCCATCCAGGTGGTGTCTCTGTTCCTGAAGGACCCCTACAGCTGGCCAGCTCTGTGCCTGGTCATTGTGGCCAATATTTTTGCTGTGGCTGCGTTCCAGGTGGAGAAGCGCCTGGCCGTGGGAGCCCTGACGGAGCAGGCGGGGCTGCTGCTGCACGGGGTCAACCTGGCCACCATTCTCTGCTTCCCAGCGGCCGTGGCCTTCCTCCTAGAGTCCATCACTCCAGTGGGTTCCGTGCTGGCCCTGATGGTCTACACCATCCTCTTCCTCAAGCTGTTTTCCTACCGGGACGTCAACCTCTGGTGCCGAGAGCGCAGGGCTGGGGCCAAGGCCAAGGCTGCTTTGGCAGGTAAGAAGGCCAACGGGGGAGCTGCCCAGCGCACCGTGAGCTACCCCGACAACCTGACCTACCGCGATCTCTACTACTTCCTCTTCGCCCCAACCCTGTGCTACGAGCTCAACTTCCCCCGCTCCCCCCGCATCCGAAAGCGCTTCCTGCTGCGGCGACTCCTGGAGATGCTGTTCCTCACCCAGCTCCAGGTGGGGCTGATTCAGCAGTGGATGGTCCCGGCCATCCAGAACTCCATGAAGCCCTTCAAGGACATGGACTACTCCCGCATCGTGGAGCGCCTCCTGAAGCTGGCGGTCCCCAACCACCTCATCTGGCTCATCTTCTTCTACTGGCTCTTCCACTCCTGCCTGAACGCCGTGGCTGAGCTCATGCAGTTTGGAGACCGCGAGTTCTACCGGGACTGGTGGAACTCGGAGTCCATCACCTACTTCTGGCAGAACTGGAACATCCCTGTTCACAAGTGGTGCCTCAGACACTTCTACAAGCCCATGCTCCGGCGGGGCAGCAGCAAGTGGGCAGCTAGGACGGGGGTGTTCCTGGCCTCTGCCTTCTTCCATGAGTACCTGGTGAGCATCCCCCTGCGCATGTTCCGCCTCTGGGCCTTCACCGGCATGATGGCACAGATCCCGCTGGCCTGGATAGTCGGCCGCTTCTTCCGTGGCAACTATGGCAACGCGGCTGTGTGGCTGTCACTCATCATTGGGCAGCCAGTGGCCGTCCTGATGTACGTCCACGACTACTACGTGCTCAACCGCGAGGCCCCAACAGCCGGCACCTGA\n"
     ]
    }
   ],
   "source": [
    "from Bio import SeqIO\n",
    "\n",
    "GoI = \"DGAT1\" #change \" rbcL\" here with your GoI\n",
    "\n",
    "for genome in SeqIO.parse(\"Ovis aries complete DGAT1.gbk\",\"genbank\"):\n",
    "    for gene in genome.features:\n",
    "        if gene.type != \"CDS\":\n",
    "            continue\n",
    "        if \"gene\" not in gene.qualifiers:\n",
    "            continue\n",
    "        if GoI not in gene.qualifiers[\"gene\"][0]: \n",
    "            continue\n",
    "        gene_seq = gene.extract(genome.seq)\n",
    "\n",
    "GoI_fasta = \">%s|%s\\n%s\" % (GoI, genome.description, gene_seq)\n",
    "print(GoI_fasta)"
   ]
  },
  {
   "cell_type": "code",
   "execution_count": 37,
   "id": "db28cfb4-4ca3-46b1-be7c-6a1ef360489d",
   "metadata": {},
   "outputs": [
    {
     "name": "stdout",
     "output_type": "stream",
     "text": [
      "FASTA Download\n"
     ]
    }
   ],
   "source": [
    "#creating EFetch handle\n",
    "filename = \"Ovis aries complete DGAT1.fasta\" #up to you, but Genbank files always use *.gb or *.gbk \n",
    "\n",
    "#creating EFetch handle\n",
    "if not os.path.isfile(filename):\n",
    "    # Downloading file...\n",
    "    efetch_handle = Entrez.efetch(db=\"nuccore\", id=\"158253238\", rettype=\"fasta\", retmode=\"text\")\n",
    "    output_file_handle = open(filename, \"w\")\n",
    "    output_file_handle.write(efetch_handle.read())\n",
    "    output_file_handle.close()\n",
    "    efetch_handle.close()\n",
    "    print(\"FASTA Download\")"
   ]
  },
  {
   "cell_type": "code",
   "execution_count": null,
   "id": "a64f44f8-444c-4422-8b0d-4226fe2a8f09",
   "metadata": {},
   "outputs": [],
   "source": []
  }
 ],
 "metadata": {
  "kernelspec": {
   "display_name": "Python 3 (ipykernel)",
   "language": "python",
   "name": "python3"
  },
  "language_info": {
   "codemirror_mode": {
    "name": "ipython",
    "version": 3
   },
   "file_extension": ".py",
   "mimetype": "text/x-python",
   "name": "python",
   "nbconvert_exporter": "python",
   "pygments_lexer": "ipython3",
   "version": "3.9.7"
  }
 },
 "nbformat": 4,
 "nbformat_minor": 5
}
